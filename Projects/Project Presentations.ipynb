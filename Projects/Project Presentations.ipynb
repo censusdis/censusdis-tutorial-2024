{
 "cells": [
  {
   "cell_type": "markdown",
   "id": "617c387f-2f6f-4cd3-838f-7c36137352ae",
   "metadata": {},
   "source": [
    "# Project Presentations\n",
    "\n",
    "1. Make a copy of your notebook(s) and save it in `~/shared/scipy/us-census-tutorial/demos.\n",
    "2. We will run your notebook from the presentation laptop (hence the shared directory).\n",
    "3. You will have 5 minutes to make a lightnight presentation."
   ]
  },
  {
   "cell_type": "code",
   "execution_count": null,
   "id": "0b53ed5d-5577-4293-b88a-622644466e3b",
   "metadata": {},
   "outputs": [],
   "source": []
  }
 ],
 "metadata": {
  "kernelspec": {
   "display_name": "Python 3 (ipykernel)",
   "language": "python",
   "name": "python3"
  },
  "language_info": {
   "codemirror_mode": {
    "name": "ipython",
    "version": 3
   },
   "file_extension": ".py",
   "mimetype": "text/x-python",
   "name": "python",
   "nbconvert_exporter": "python",
   "pygments_lexer": "ipython3",
   "version": "3.11.4"
  }
 },
 "nbformat": 4,
 "nbformat_minor": 5
}
