{
 "cells": [
  {
   "cell_type": "markdown",
   "id": "0f5e542f-b44d-44cd-8636-e5818c7d4f65",
   "metadata": {},
   "source": [
    "# Lesson n: Final Thoughts\n",
    "\n",
    "- **Thank you for attending!**\n",
    "- I will be here all week for follow up questions\n",
    "  - Or email vengroff@datapinions.com\n",
    "- Nebari will be up all week.\n",
    "  - Please download any work you want to keep\n",
    "- Please report and bugs or feature requests at https://github.com/censusdis/censusdis\n",
    "- Please star the repo\n",
    "- Please join the team if you would like to contribute"
   ]
  },
  {
   "cell_type": "code",
   "execution_count": null,
   "id": "ea03558c-0b71-4f73-ac3f-73dada009e1d",
   "metadata": {},
   "outputs": [],
   "source": []
  }
 ],
 "metadata": {
  "kernelspec": {
   "display_name": "Python 3 (ipykernel)",
   "language": "python",
   "name": "python3"
  },
  "language_info": {
   "codemirror_mode": {
    "name": "ipython",
    "version": 3
   },
   "file_extension": ".py",
   "mimetype": "text/x-python",
   "name": "python",
   "nbconvert_exporter": "python",
   "pygments_lexer": "ipython3",
   "version": "3.11.4"
  }
 },
 "nbformat": 4,
 "nbformat_minor": 5
}
