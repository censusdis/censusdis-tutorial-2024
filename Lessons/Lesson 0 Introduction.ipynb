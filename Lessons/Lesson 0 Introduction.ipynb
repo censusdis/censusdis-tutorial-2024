{
 "cells": [
  {
   "cell_type": "markdown",
   "id": "d73ba28d-a28d-4ce9-9f1c-18cbd3925076",
   "metadata": {},
   "source": [
    "# Lesson 0: Environment Check and Background\n",
    "\n",
    "## Environment Check\n",
    "\n",
    "The first thing we are going to do is import the `censusdis` package and make \n",
    "sure we have the version we want. The lessons in this repository were developed\n",
    "using version 1.1.10, so we we want to make sure we can successfully import that\n",
    "version or a newer one. \n",
    "\n",
    "If you have any problems running the following cell, they will need to be corrected\n",
    "before you can proceed."
   ]
  },
  {
   "cell_type": "code",
   "execution_count": 1,
   "id": "7f3c7bc2-52d6-4d96-9a25-419444fb32db",
   "metadata": {},
   "outputs": [
    {
     "data": {
      "text/plain": [
       "'1.1.10'"
      ]
     },
     "execution_count": 1,
     "metadata": {},
     "output_type": "execute_result"
    }
   ],
   "source": [
    "import censusdis\n",
    "\n",
    "censusdis.version"
   ]
  },
  {
   "attachments": {},
   "cell_type": "markdown",
   "id": "901b7099-b891-4fb2-9ab1-d76125e46009",
   "metadata": {},
   "source": [
    "## Background\n",
    "\n",
    "The U.S. Census Bureau publishes a wide variety of data. The vast majority of it is\n",
    "available through a public API. "
   ]
  },
  {
   "cell_type": "code",
   "execution_count": null,
   "id": "d0ba4aea-782f-42df-8c56-8c2da9b9c6db",
   "metadata": {},
   "outputs": [],
   "source": []
  }
 ],
 "metadata": {
  "kernelspec": {
   "display_name": "Python 3 (ipykernel)",
   "language": "python",
   "name": "python3"
  },
  "language_info": {
   "codemirror_mode": {
    "name": "ipython",
    "version": 3
   },
   "file_extension": ".py",
   "mimetype": "text/x-python",
   "name": "python",
   "nbconvert_exporter": "python",
   "pygments_lexer": "ipython3",
   "version": "3.11.4"
  }
 },
 "nbformat": 4,
 "nbformat_minor": 5
}
