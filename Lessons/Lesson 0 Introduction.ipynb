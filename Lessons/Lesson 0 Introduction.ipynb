{
 "cells": [
  {
   "cell_type": "markdown",
   "id": "b4bfc780-f128-40aa-83ae-3a8cbc093d48",
   "metadata": {},
   "source": [
    "<br><br><br><br><br><br><br><br><br><br><br><br><br>\n",
    "\n",
    "<table>\n",
    "    <tr>\n",
    "        <td rowspan=3><img src=\"../images/github-lesson0.png\"></img></td>\n",
    "        <td style=\"font-size:2em; vertical-align:top\">Working with U.S. Census Data in Python: Discovery, Analysis, and Visualization</td>\n",
    "    </tr>\n",
    "    <tr>\n",
    "    </tr>\n",
    "    <tr>\n",
    "        <td style=\"font-size:1.5em; vertical-align:top\">\n",
    "            <a href=\"https://www.linkedin.com/in/vengroff/\">Darren Erik Vengroff, Ph.D.</a>\n",
    "            <br>\n",
    "            Creator and principal maintainer of <a href=\"https://github.com/censusdis/censusdis\">censusdis</a>.\n",
    "        </td>\n",
    "    </tr>\n",
    "</table>\n",
    "    \n",
    "\n",
    "<span style=\"font-size:1.5em;\">Already have a [SciPy 24 Nebari](https://docs.google.com/document/d/11YWMZKW6Y4tXnMs3Jekc1S7BQWTR6THZazDaq3WoNxw/edit?pli=1#heading=h.iiycnjuxtvzz) account?</span>\n",
    "- Go to https://scipy.quansight.dev/\n",
    "- Start Jupyter with a medium instance\n",
    "- Git clone https://github.com/censusdis/censusdis-tutorial-2024.git\n",
    "  \n",
    "<span style=\"font-size:1.5em;\">If you don't have Nebari</span>\n",
    "- Please follow the detailed instructions in the Set Up section of the`README.md` file at \n",
    "  https://github.com/censusdis/censusdis-tutorial-2024.\n",
    "\n",
    "<br><br><br><br><br><br><br><br><br><br><br><br><br>"
   ]
  },
  {
   "cell_type": "markdown",
   "id": "d73ba28d-a28d-4ce9-9f1c-18cbd3925076",
   "metadata": {},
   "source": [
    "# Lesson 0: Environment Setup and Background\n",
    "\n",
    "## Environment Check\n",
    "\n",
    "The first thing we are going to do is set up an API key, import the `censusdis` \n",
    "package, make sure we have the version we want, and verify out API key. \n",
    "\n",
    "The lessons in this repository were developed\n",
    "using version 1.1.13, so we we want to make sure we can successfully import that\n",
    "version or a newer one. \n",
    "\n",
    "If you have any problems running the following cells, they will need to be corrected\n",
    "before you can proceed."
   ]
  },
  {
   "cell_type": "code",
   "execution_count": null,
   "id": "1be7207c-75d0-409b-a8f0-34fe52426a07",
   "metadata": {},
   "outputs": [],
   "source": [
    "!/shared/scipy/us-census-tutorial/api-key.sh"
   ]
  },
  {
   "cell_type": "code",
   "execution_count": null,
   "id": "7f3c7bc2-52d6-4d96-9a25-419444fb32db",
   "metadata": {},
   "outputs": [],
   "source": [
    "import censusdis\n",
    "\n",
    "censusdis.version"
   ]
  },
  {
   "cell_type": "code",
   "execution_count": null,
   "id": "c9dfe276-b58b-4ccf-8efb-661710e8f029",
   "metadata": {},
   "outputs": [],
   "source": [
    "from censusdis.geography import EnvironmentApiKey\n",
    "from hashlib import md5\n",
    "\n",
    "m = md5()\n",
    "m.update(str(EnvironmentApiKey.api_key()).encode(\"utf-8\"))\n",
    "\n",
    "if m.hexdigest() == \"53c0bad97dc7ca70648b042923ff7dca\":\n",
    "    print(\"Using the SciPy '24 key.\")\n",
    "else:\n",
    "    print(\"Not using the SciPy '24 key.\")"
   ]
  },
  {
   "cell_type": "markdown",
   "id": "9a8937ef-9648-4f10-8e74-3f14b01c9d17",
   "metadata": {},
   "source": [
    "## Organization\n",
    "\n",
    "- Tutorial format:\n",
    "  - Lesson (introduce concepts and code examples)\n",
    "  - Exercise (apply what you learned; write your own code)\n",
    "  - Repeat\n",
    "- One final project in groups of 2-3\n",
    "- Four hours is a long time to sit\n",
    "   - There will be a 10 minute break midway through\n",
    "   - Feel free to get up as necessary during exercises\n",
    "- Questions are encouraged\n",
    "   - Just raise your hand "
   ]
  },
  {
   "attachments": {},
   "cell_type": "markdown",
   "id": "901b7099-b891-4fb2-9ab1-d76125e46009",
   "metadata": {},
   "source": [
    "## Background\n",
    "\n",
    "- The U.S. Census Bureau collects and publishes data on all kinds of demographic, social, economic, and political aspects of American life.\n",
    "- The vast majority of this data is available via a web-based API.\n",
    "- We'd like it to be easy for Python users to access this API.\n",
    "\n",
    "- That is exactly what the [`censusdis`](https://github.com/censusdis/censusdis) package does. \n",
    "From the `censusdis` README.md:\n",
    "\n",
    "> `censusdis` is a package for discovering, loading, analyzing, and computing diversity, integration, and\n",
    "> segregation metrics to U.S. Census demographic data. \n",
    "> It is designed\n",
    "> \n",
    "> - to support **every dataset**, **every geography, and every year**. It's not just about ACS data through\n",
    ">   the last time the software was updated and released;\n",
    "> - to support **all geographies, on and off-spine**, not just states, counties, and census tracts;\n",
    "> - to have **integrated mapping capabilities** that save you time and extra coding;\n",
    "> - to be intuitive, Pythonic, and fast.\n",
    "\n",
    "- It doesn't matter if you don't know what those **bold terms** even mean.\n",
    "  - This tutorial will teach you.\n",
    "  - This is a hands-on tutorial, all in notebooks, and you will have plenty of opportunity to write code to\n",
    "    do all the things you will learn."
   ]
  },
  {
   "cell_type": "markdown",
   "id": "38ea8568-26bc-4e29-8b5a-c1fadef43ef0",
   "metadata": {},
   "source": [
    "## Let's Jump Right In\n",
    "\n",
    "The first lesson is [Lesson 1 Basic Queries](./Lesson%201%20Basic%20Queries.ipynb)."
   ]
  },
  {
   "cell_type": "code",
   "execution_count": null,
   "id": "cc119512-57db-4757-ab35-88c7b5fababf",
   "metadata": {},
   "outputs": [],
   "source": []
  }
 ],
 "metadata": {
  "kernelspec": {
   "display_name": "Python 3 (ipykernel)",
   "language": "python",
   "name": "python3"
  },
  "language_info": {
   "codemirror_mode": {
    "name": "ipython",
    "version": 3
   },
   "file_extension": ".py",
   "mimetype": "text/x-python",
   "name": "python",
   "nbconvert_exporter": "python",
   "pygments_lexer": "ipython3",
   "version": "3.11.4"
  }
 },
 "nbformat": 4,
 "nbformat_minor": 5
}
