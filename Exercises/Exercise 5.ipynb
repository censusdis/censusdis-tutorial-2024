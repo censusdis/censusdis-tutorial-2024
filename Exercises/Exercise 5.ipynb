{
 "cells": [
  {
   "cell_type": "markdown",
   "id": "36cb016d-5479-4959-89e1-2390b49b90a7",
   "metadata": {},
   "source": [
    "# Exercise 5: \n",
    "\n",
    "This exercise covers concepts from [Lesson 5: Query Filters](../Lessons/Lesson%205%20Query%20Filters.ipynb).\n",
    "\n",
    "Solutions (don't peek) are [here](Solutions/Solutions%205.ipynb)."
   ]
  },
  {
   "cell_type": "markdown",
   "id": "74caaaee-6ef5-4786-b68c-699f01db2543",
   "metadata": {},
   "source": [
    "<br><br><br><br>"
   ]
  },
  {
   "cell_type": "markdown",
   "id": "ff93ebf7-81bd-4d0b-9970-e9b0b24b36f0",
   "metadata": {},
   "source": [
    "## a) How many people were employed in motor vehicle manufacturing in 2022, by state?\n",
    "\n",
    "Use data from the `CBP` data set to answer this question."
   ]
  },
  {
   "cell_type": "code",
   "execution_count": null,
   "id": "2a0b0933-d8fc-4dea-bd1b-f9ee7488d13e",
   "metadata": {},
   "outputs": [],
   "source": []
  },
  {
   "cell_type": "markdown",
   "id": "345dee7a-7782-4d33-8bd7-ed4e3d1bf11b",
   "metadata": {},
   "source": [
    "<br><br><br><br>"
   ]
  },
  {
   "cell_type": "markdown",
   "id": "3c2ca25d-6de0-4597-83bb-adb48243972a",
   "metadata": {},
   "source": [
    "## b) What are the top 10 states?"
   ]
  },
  {
   "cell_type": "code",
   "execution_count": null,
   "id": "f60a41a0-54ab-4ce4-96cb-ce9208e4d3e1",
   "metadata": {},
   "outputs": [],
   "source": []
  }
 ],
 "metadata": {
  "kernelspec": {
   "display_name": "Python 3 (ipykernel)",
   "language": "python",
   "name": "python3"
  },
  "language_info": {
   "codemirror_mode": {
    "name": "ipython",
    "version": 3
   },
   "file_extension": ".py",
   "mimetype": "text/x-python",
   "name": "python",
   "nbconvert_exporter": "python",
   "pygments_lexer": "ipython3",
   "version": "3.11.4"
  }
 },
 "nbformat": 4,
 "nbformat_minor": 5
}
