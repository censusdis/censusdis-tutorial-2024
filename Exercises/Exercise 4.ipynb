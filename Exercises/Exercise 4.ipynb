{
 "cells": [
  {
   "cell_type": "markdown",
   "id": "061d4709-35df-4f08-851e-1a784670937b",
   "metadata": {},
   "source": [
    "# Exercise 4\n",
    "\n",
    "This exercise covers concepts from [Lesson 4 Advanced Geography](../Lessons/Lesson%204%20Advanced%20Geography.ipynb).\n",
    "\n",
    "Solutions (don't peek) are [here](Solutions/Solutions%204.ipynb)."
   ]
  },
  {
   "cell_type": "markdown",
   "id": "85a874b1-82f4-4754-a920-3f4e225f244b",
   "metadata": {},
   "source": [
    "<br><br><br><br>"
   ]
  },
  {
   "cell_type": "markdown",
   "id": "b2224e26-9f6d-425e-b1a3-eada28145add",
   "metadata": {},
   "source": [
    "## Background\n",
    "\n",
    "In stories written for popular audiences, census data is often presented\n",
    "at the zip code level. This makes some sense, because people know what zip\n",
    "code they live in, but rarely know what census tract they live in.\n",
    "\n",
    "Unfortunately, the U.S. Census Bureau does not know about zip codes as defined\n",
    "by the U.S. Postal Service. The closest approximation they have is zip code\n",
    "tabulation areas, which for \n",
    "[technical reasons](https://www.census.gov/programs-surveys/geography/guidance/geo-areas/zctas.html) \n",
    "are close but not exactly the same thing.\n",
    "\n",
    "You can query them with `zip_code_tabulation_area=`. Note this is off-spine. Zip code\n",
    "tabulation areas do not even nest within states.\n",
    "\n",
    "## a) Plot the zip codes in San Antonio, TX\n",
    "\n",
    "With the caveats above in mind, plot the zip codes, \"contained within,\" San Antonio,\n",
    "Texas."
   ]
  },
  {
   "cell_type": "markdown",
   "id": "aee34bf8-f032-4eaf-aa67-7cbeee343bbe",
   "metadata": {},
   "source": [
    "## b) Repeat, but with a smaller area overlap threshold\n",
    "\n",
    "Use `area_threshold=0.2` as an agrument to `ced.contained_within` instead of the default\n",
    "value of `0.8`."
   ]
  },
  {
   "cell_type": "markdown",
   "id": "4f1bb361-ddc4-45b8-92d3-57e45b00f395",
   "metadata": {},
   "source": [
    "## c) How meaningful is is to talk about \"zip codes in a city?\"\n",
    "\n",
    "You can answer with text and/or data."
   ]
  },
  {
   "cell_type": "code",
   "execution_count": null,
   "id": "c7d36539-60c5-42be-b20e-2fd33aea7529",
   "metadata": {},
   "outputs": [],
   "source": []
  }
 ],
 "metadata": {
  "kernelspec": {
   "display_name": "Python 3 (ipykernel)",
   "language": "python",
   "name": "python3"
  },
  "language_info": {
   "codemirror_mode": {
    "name": "ipython",
    "version": 3
   },
   "file_extension": ".py",
   "mimetype": "text/x-python",
   "name": "python",
   "nbconvert_exporter": "python",
   "pygments_lexer": "ipython3",
   "version": "3.11.4"
  }
 },
 "nbformat": 4,
 "nbformat_minor": 5
}
