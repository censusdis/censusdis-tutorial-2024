{
 "cells": [
  {
   "cell_type": "markdown",
   "id": "41537d24-3d0e-4bc2-83c1-4498dd87b34a",
   "metadata": {},
   "source": [
    "# Exercise 1\n",
    "\n",
    "This exercise covers concepts from [Lesson 1 Basic Queries](../Lessons/Lesson%201%20Basic%20Queries.ipynb).\n",
    "\n",
    "Solutions (don't peek) are [here](Solutions/Solutions%201.ipynb)."
   ]
  },
  {
   "cell_type": "markdown",
   "id": "d1233fbd-cbc3-47d5-9f70-8b23b4308f6e",
   "metadata": {},
   "source": [
    "<br><br><br><br>"
   ]
  },
  {
   "cell_type": "markdown",
   "id": "00020e2c-1902-40ca-8974-47b375da0e2f",
   "metadata": {},
   "source": [
    "## Median Home Value in the NY-NJ-CT Tri-State Area\n",
    "\n",
    "The ACS has a variable for median home value. It is called `B25077_001E`.\n",
    "We would like to query this variable for the states of New York, New Jersey,\n",
    "and Connecticut.\n",
    "\n",
    "Use the space below to enter the code to make this query."
   ]
  },
  {
   "cell_type": "code",
   "execution_count": 1,
   "id": "fd0819f7-cc0e-4f8c-9359-aa5778d912c8",
   "metadata": {},
   "outputs": [],
   "source": [
    "# Step 1: import the modules you need\n"
   ]
  },
  {
   "cell_type": "code",
   "execution_count": 2,
   "id": "e02c4d4f-eb26-41dd-a9e4-34f5df2f47e4",
   "metadata": {},
   "outputs": [],
   "source": [
    "# Step 2: Define a constant for the median home value variable\n"
   ]
  },
  {
   "cell_type": "code",
   "execution_count": 3,
   "id": "3707fc7c-4954-46af-98e4-9106f49606bf",
   "metadata": {},
   "outputs": [],
   "source": [
    "# Step 3: Make the query\n"
   ]
  },
  {
   "cell_type": "code",
   "execution_count": null,
   "id": "a5ab5c2a-be3d-4502-98db-32ce396bba33",
   "metadata": {},
   "outputs": [],
   "source": []
  }
 ],
 "metadata": {
  "kernelspec": {
   "display_name": "Python 3 (ipykernel)",
   "language": "python",
   "name": "python3"
  },
  "language_info": {
   "codemirror_mode": {
    "name": "ipython",
    "version": 3
   },
   "file_extension": ".py",
   "mimetype": "text/x-python",
   "name": "python",
   "nbconvert_exporter": "python",
   "pygments_lexer": "ipython3",
   "version": "3.11.4"
  }
 },
 "nbformat": 4,
 "nbformat_minor": 5
}
