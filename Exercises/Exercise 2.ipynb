{
 "cells": [
  {
   "cell_type": "markdown",
   "id": "41537d24-3d0e-4bc2-83c1-4498dd87b34a",
   "metadata": {},
   "source": [
    "# Exercise 2\n",
    "\n",
    "This exercise covers concepts from [Lesson 2 Maps and More Geographies](../Lessons/Lesson%202%20Maps.ipynb).\n",
    "\n",
    "Solutions (don't peek) are [here](Solutions/Solutions%202.ipynb)."
   ]
  },
  {
   "cell_type": "markdown",
   "id": "d1233fbd-cbc3-47d5-9f70-8b23b4308f6e",
   "metadata": {},
   "source": [
    "<br><br><br><br>"
   ]
  },
  {
   "cell_type": "markdown",
   "id": "00020e2c-1902-40ca-8974-47b375da0e2f",
   "metadata": {},
   "source": [
    "## a) Median Home Value by Census Tract in Multnomah County, Oregon\n",
    "\n",
    "As in Exercise 1, we will use the variable `B25077_001E`.\n",
    "We would like to query this variable for all of the census tracts\n",
    "in Multnomah County\n",
    "\n",
    "Use the space below to enter the code to make this query."
   ]
  },
  {
   "cell_type": "code",
   "execution_count": 1,
   "id": "fd0819f7-cc0e-4f8c-9359-aa5778d912c8",
   "metadata": {},
   "outputs": [],
   "source": [
    "# Step 1: import the modules you need"
   ]
  },
  {
   "cell_type": "code",
   "execution_count": 2,
   "id": "e02c4d4f-eb26-41dd-a9e4-34f5df2f47e4",
   "metadata": {},
   "outputs": [],
   "source": [
    "# Step 2: Define a constant for the median home value variable"
   ]
  },
  {
   "cell_type": "code",
   "execution_count": 3,
   "id": "3707fc7c-4954-46af-98e4-9106f49606bf",
   "metadata": {},
   "outputs": [],
   "source": [
    "# Step 3: Make the query"
   ]
  },
  {
   "cell_type": "code",
   "execution_count": 4,
   "id": "a5ab5c2a-be3d-4502-98db-32ce396bba33",
   "metadata": {},
   "outputs": [],
   "source": [
    "# Step 4: Plot the map"
   ]
  },
  {
   "cell_type": "markdown",
   "id": "995ac760-c7a1-46df-a589-d3a2dcc2e2d6",
   "metadata": {},
   "source": [
    "## b) Median Home Value of Places in Oregon"
   ]
  },
  {
   "cell_type": "code",
   "execution_count": 5,
   "id": "59057781-dcbf-48c7-af58-2b8ee8222f06",
   "metadata": {},
   "outputs": [],
   "source": [
    "# Step 1: Make the query"
   ]
  },
  {
   "cell_type": "code",
   "execution_count": 6,
   "id": "01492748-f2a1-4c61-b99d-ca57921d3894",
   "metadata": {},
   "outputs": [],
   "source": [
    "# Step 2: Get the geometry of the state"
   ]
  },
  {
   "cell_type": "code",
   "execution_count": 7,
   "id": "957b76db-3119-4b62-b3db-faef5a5ee553",
   "metadata": {},
   "outputs": [],
   "source": [
    "# Step 3: Plot the state map and the places on top."
   ]
  },
  {
   "cell_type": "code",
   "execution_count": null,
   "id": "505b8d69-daff-434e-aa6f-71b8ca7c43aa",
   "metadata": {},
   "outputs": [],
   "source": []
  }
 ],
 "metadata": {
  "kernelspec": {
   "display_name": "Python 3 (ipykernel)",
   "language": "python",
   "name": "python3"
  },
  "language_info": {
   "codemirror_mode": {
    "name": "ipython",
    "version": 3
   },
   "file_extension": ".py",
   "mimetype": "text/x-python",
   "name": "python",
   "nbconvert_exporter": "python",
   "pygments_lexer": "ipython3",
   "version": "3.11.4"
  }
 },
 "nbformat": 4,
 "nbformat_minor": 5
}
