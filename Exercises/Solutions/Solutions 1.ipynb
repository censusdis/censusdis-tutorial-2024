{
 "cells": [
  {
   "cell_type": "markdown",
   "id": "073520d1-75f8-4811-ae56-b4afcaf4a467",
   "metadata": {},
   "source": [
    "# Solutions to Exercise 1 \n",
    "\n",
    "This notebook contains solutions to [Exercise 1](../Exercise%201.ipynb)."
   ]
  },
  {
   "cell_type": "code",
   "execution_count": 1,
   "id": "d76a9190-584c-4e5a-9541-10154fdb149c",
   "metadata": {},
   "outputs": [],
   "source": [
    "# Step 1: import the modules you need\n",
    "\n",
    "import censusdis.data as ced\n",
    "from censusdis.datasets import ACS5\n",
    "import censusdis.states as states"
   ]
  },
  {
   "cell_type": "code",
   "execution_count": 2,
   "id": "d1c639a3-82d6-45c4-9d19-e8bec172b79c",
   "metadata": {},
   "outputs": [],
   "source": [
    "# Step 2: Define a constant for the median home value variable\n",
    "\n",
    "MEDIAN_HOME_VALUE = \"B25077_001E\""
   ]
  },
  {
   "cell_type": "code",
   "execution_count": 3,
   "id": "8cf78e6e-346a-4e6d-86b5-d519e4879a94",
   "metadata": {},
   "outputs": [
    {
     "data": {
      "text/html": [
       "<div>\n",
       "<style scoped>\n",
       "    .dataframe tbody tr th:only-of-type {\n",
       "        vertical-align: middle;\n",
       "    }\n",
       "\n",
       "    .dataframe tbody tr th {\n",
       "        vertical-align: top;\n",
       "    }\n",
       "\n",
       "    .dataframe thead th {\n",
       "        text-align: right;\n",
       "    }\n",
       "</style>\n",
       "<table border=\"1\" class=\"dataframe\">\n",
       "  <thead>\n",
       "    <tr style=\"text-align: right;\">\n",
       "      <th></th>\n",
       "      <th>STATE</th>\n",
       "      <th>NAME</th>\n",
       "      <th>B25077_001E</th>\n",
       "    </tr>\n",
       "  </thead>\n",
       "  <tbody>\n",
       "    <tr>\n",
       "      <th>0</th>\n",
       "      <td>09</td>\n",
       "      <td>Connecticut</td>\n",
       "      <td>323700</td>\n",
       "    </tr>\n",
       "    <tr>\n",
       "      <th>1</th>\n",
       "      <td>34</td>\n",
       "      <td>New Jersey</td>\n",
       "      <td>401400</td>\n",
       "    </tr>\n",
       "    <tr>\n",
       "      <th>2</th>\n",
       "      <td>36</td>\n",
       "      <td>New York</td>\n",
       "      <td>384100</td>\n",
       "    </tr>\n",
       "  </tbody>\n",
       "</table>\n",
       "</div>"
      ],
      "text/plain": [
       "  STATE         NAME  B25077_001E\n",
       "0    09  Connecticut       323700\n",
       "1    34   New Jersey       401400\n",
       "2    36     New York       384100"
      ]
     },
     "execution_count": 3,
     "metadata": {},
     "output_type": "execute_result"
    }
   ],
   "source": [
    "# Step 3: Make the query\n",
    "\n",
    "df = ced.download(\n",
    "    dataset=ACS5,\n",
    "    vintage=2022,\n",
    "    download_variables=[\"NAME\", MEDIAN_HOME_VALUE],\n",
    "    state=[states.NY, states.NJ, states.CT],\n",
    ")\n",
    "\n",
    "df"
   ]
  },
  {
   "cell_type": "code",
   "execution_count": null,
   "id": "584516cc-5226-48b3-a940-c8031cb5c74f",
   "metadata": {},
   "outputs": [],
   "source": []
  },
  {
   "cell_type": "markdown",
   "id": "3514785a-621b-48b7-bd18-6ce09bad59a0",
   "metadata": {},
   "source": [
    "<br><br><br><br><br><br><br><br>\n",
    "<br><br><br><br><br><br><br><br>"
   ]
  },
  {
   "cell_type": "code",
   "execution_count": null,
   "id": "29b856e1-ff9a-46a2-befa-fc8a3456ab39",
   "metadata": {},
   "outputs": [],
   "source": []
  }
 ],
 "metadata": {
  "kernelspec": {
   "display_name": "Python 3 (ipykernel)",
   "language": "python",
   "name": "python3"
  },
  "language_info": {
   "codemirror_mode": {
    "name": "ipython",
    "version": 3
   },
   "file_extension": ".py",
   "mimetype": "text/x-python",
   "name": "python",
   "nbconvert_exporter": "python",
   "pygments_lexer": "ipython3",
   "version": "3.11.4"
  }
 },
 "nbformat": 4,
 "nbformat_minor": 5
}
