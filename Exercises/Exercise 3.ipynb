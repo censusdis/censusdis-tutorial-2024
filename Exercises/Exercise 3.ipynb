{
 "cells": [
  {
   "cell_type": "markdown",
   "id": "061d4709-35df-4f08-851e-1a784670937b",
   "metadata": {},
   "source": [
    "# Exercise 3\n",
    "\n",
    "This exercise covers concepts from [Lesson 3 Variables, Groups, and Data Sets](../Lessons/Lesson%203%20Variables.ipynb).\n",
    "\n",
    "Solutions (don't peek) are [here](Solutions/Solutions%203.ipynb)."
   ]
  },
  {
   "cell_type": "markdown",
   "id": "85a874b1-82f4-4754-a920-3f4e225f244b",
   "metadata": {},
   "source": [
    "<br><br><br><br>"
   ]
  },
  {
   "cell_type": "markdown",
   "id": "b2224e26-9f6d-425e-b1a3-eada28145add",
   "metadata": {},
   "source": [
    "## a) Find variables in the Decennial Public Law 94 171 data set\n",
    "\n",
    "We are interested in knowing what variables we need to determine the fraction of \n",
    "the population in an area that is Hispanic or Latino. We want this data for the\n",
    "year 2020.\n",
    "\n",
    "We need two variables, the total population and the Hispanic or Latino population."
   ]
  },
  {
   "cell_type": "markdown",
   "id": "9f6770c1-c748-469f-a59a-ce57c628b042",
   "metadata": {},
   "source": [
    "## b) Determine the fraction of the population that is Hispanic or Latino in California by County\n",
    "\n",
    "Query the data for the variables from (a), compute the fraction, and plot it on a map."
   ]
  }
 ],
 "metadata": {
  "kernelspec": {
   "display_name": "Python 3 (ipykernel)",
   "language": "python",
   "name": "python3"
  },
  "language_info": {
   "codemirror_mode": {
    "name": "ipython",
    "version": 3
   },
   "file_extension": ".py",
   "mimetype": "text/x-python",
   "name": "python",
   "nbconvert_exporter": "python",
   "pygments_lexer": "ipython3",
   "version": "3.11.4"
  }
 },
 "nbformat": 4,
 "nbformat_minor": 5
}
